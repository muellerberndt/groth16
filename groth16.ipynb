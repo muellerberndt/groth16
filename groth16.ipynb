{
  "cells": [
    {
      "cell_type": "markdown",
      "metadata": {
        "id": "uNUjtlkVYVO5"
      },
      "source": [
        "# Groth16 Python notebook\n",
        "\n",
        "Groth16 implementation according to the Rareskills ZK book:\n",
        "\n",
        "https://www.rareskills.io/zk-book\n",
        "\n",
        "\n",
        "## 1. Create QAP from R1CS\n"
      ]
    },
    {
      "cell_type": "markdown",
      "source": [],
      "metadata": {
        "id": "hBvdSIZZafSC"
      }
    },
    {
      "cell_type": "code",
      "source": [
        "!pip install galois py_ecc"
      ],
      "metadata": {
        "id": "9R1pDx9C378E"
      },
      "execution_count": null,
      "outputs": []
    },
    {
      "cell_type": "code",
      "source": [
        "# Imports & initialize finite field. This takes a while to run\n",
        "\n",
        "import numpy as np\n",
        "import galois\n",
        "from py_ecc.bn128 import G1, G2, FQ12, curve_order, add, multiply, pairing, Z1, neg, final_exponentiate\n",
        "import random\n",
        "from functools import reduce\n",
        "\n",
        "GF = galois.GF(curve_order)"
      ],
      "metadata": {
        "id": "qewXPsNp5MhF"
      },
      "execution_count": 22,
      "outputs": []
    },
    {
      "cell_type": "code",
      "execution_count": 23,
      "metadata": {
        "id": "XtftvKdPQEwW"
      },
      "outputs": [],
      "source": [
        "# Define the R1CS for\n",
        "# 5x^3 - 4y^2x^2 + 13xy^2 + x^2 - 10y\n",
        "\n",
        "L = GF(np.array([\n",
        "  [0, 0, 1, 0, 0, 0, 0, 0, 0, 0, 0],\n",
        "  [0, 0, 0, 1, 0, 0, 0, 0, 0, 0, 0],\n",
        "  [0, 0, 0, 0, 5, 0, 0, 0, 0, 0, 0],\n",
        "  [0, 0, 0, 0, 0, 4, 0, 0, 0, 0, 0],\n",
        "  [0, 0, 13, 0, 0, 0, 0, 0, 0, 0, 0],\n",
        "  [0, 0, 0, 10, 0, 0, 0, 0, 0, 0, 0],\n",
        "  [0, 0, 0, 0, 1, 0, 0, 0, 0, curve_order-1, 0],\n",
        "  [0, 0, 0, 0, 0, 0, 1, curve_order-1, 1, 0, 1],\n",
        "]))\n",
        "\n",
        "R = GF(np.array([\n",
        "  [0, 0, 1, 0, 0, 0, 0, 0, 0, 0, 0],\n",
        "  [0, 0, 0, 1, 0, 0, 0, 0, 0, 0, 0],\n",
        "  [0, 0, 1, 0, 0, 0, 0, 0, 0, 0, 0],\n",
        "  [0, 0, 0, 0, 1, 0, 0, 0, 0, 0, 0],\n",
        "  [0, 0, 0, 0, 0, 1, 0, 0, 0, 0, 0],\n",
        "  [1, 0, 0, 0, 0, 0, 0, 0, 0, 0, 0],\n",
        "  [1, 0, 0, 0, 0, 0, 0, 0, 0, 0, 0],\n",
        "  [1, 0, 0, 0, 0, 0, 0, 0, 0, 0, 0],\n",
        "]))\n",
        "\n",
        "O = GF(np.array([\n",
        "  [0, 0, 0, 0, 1, 0, 0, 0, 0, 0, 0], # a = x * x\n",
        "  [0, 0, 0, 0, 0, 1, 0, 0, 0, 0, 0], # b = y * y\n",
        "  [0, 0, 0, 0, 0, 0, 1, 0, 0, 0, 0], # c = 5a * x\n",
        "  [0, 0, 0, 0, 0, 0, 0, 1, 0, 0, 0], # d = 4b * a\n",
        "  [0, 0, 0, 0, 0, 0, 0, 0, 1, 0, 0], # e = 13x * b\n",
        "  [0, 0, 0, 0, 0, 0, 0, 0, 0, 1, 0], # f = 10 * y\n",
        "  [0, 0, 0, 0, 0, 0, 0, 0, 0, 0, 1], # g = a - f\n",
        "  [0, 1, 0, 0, 0, 0, 0, 0, 0, 0, 0], # out = c - d + e + g\n",
        "]))\n",
        "\n",
        "# Calculate witness\n",
        "\n",
        "x = GF(23)\n",
        "y = GF(5)\n",
        "\n",
        "a = x * x\n",
        "b = y * y\n",
        "c = 5 * a * x\n",
        "d = 4 * b * a\n",
        "e = 13 * x * b\n",
        "f = 10 * y\n",
        "g = a - f\n",
        "out = c - d + e + g\n",
        "\n",
        "w = GF([1, out, x, y, a, b, c, d, e, f, g])\n",
        "\n",
        "assert all(np.equal(np.matmul(L, w) * np.matmul(R, w), np.matmul(O, w))), \"not equal\"\n"
      ]
    },
    {
      "cell_type": "code",
      "execution_count": 24,
      "metadata": {
        "id": "5DBFhjoJSXzO"
      },
      "outputs": [],
      "source": [
        "# Interpolate the polynomials\n",
        "\n",
        "def interpolate_column(col):\n",
        "    xs = GF(np.array([1, 2, 3, 4, 5, 6, 7, 8]))\n",
        "    return galois.lagrange_poly(xs, col)\n",
        "\n",
        "U = [interpolate_column(L[:, i]) for i in range(L.shape[1])]\n",
        "V = [interpolate_column(R[:, i]) for i in range(R.shape[1])]\n",
        "W = [interpolate_column(O[:, i]) for i in range(O.shape[1])]"
      ]
    },
    {
      "cell_type": "code",
      "execution_count": null,
      "metadata": {
        "id": "VVEQP0KHr2mO"
      },
      "outputs": [],
      "source": [
        "# Inspect the polynomials\n",
        "\n",
        "assert(U[2](5) == 13)\n",
        "\n",
        "print(len(U))\n",
        "\n",
        "print(U[6].degree)"
      ]
    },
    {
      "cell_type": "markdown",
      "source": [
        "## 2. QAP Evaluation\n",
        "First we evaluate the QAP without encryption. If the following holds:\n",
        "\n",
        "U * V == W + h * t\n",
        "\n",
        "Then we have a satisfied R1CS."
      ],
      "metadata": {
        "id": "FA3fBV2EmEp0"
      }
    },
    {
      "cell_type": "code",
      "execution_count": 6,
      "metadata": {
        "id": "R6G8lzubrD_q"
      },
      "outputs": [],
      "source": [
        "# Compute the inner product of each polynomial and the witness vector\n",
        "\n",
        "def inner_product(polys, witness):\n",
        "  mul_ = lambda x, y: x * y\n",
        "  sum_ = lambda x, y: x + y\n",
        "  return reduce(sum_, map(mul_, polys, witness))\n",
        "\n",
        "Ua = inner_product(U, w)\n",
        "Va = inner_product(V, w)\n",
        "Wa = inner_product(W, w)\n",
        "\n",
        "# Calcuate h\n",
        "# # t = (x - 1)(x - 2) ... (x - 8)\n",
        "\n",
        "t = galois.Poly([1], field=GF)\n",
        "\n",
        "for i in range(1, 8):\n",
        "    factor = galois.Poly([1, curve_order - i], field=GF)\n",
        "    t *= factor\n",
        "\n",
        "h = (Ua * Va - Wa) // t\n",
        "\n",
        "assert Ua * Va == Wa + h * t"
      ]
    },
    {
      "cell_type": "markdown",
      "source": [
        "## 3.  Groth16\n",
        "\n",
        "This code assumes that the prover has already computed Ua, Va, Wa and h as shown above."
      ],
      "metadata": {
        "id": "DWx0mJJRm6qC"
      }
    },
    {
      "cell_type": "code",
      "source": [
        "def encrypted_poly_eval(ec_points, coefficients):\n",
        "    return reduce(add, (multiply(point, int(coeff)) for point, coeff in zip(ec_points, coefficients)), Z1)\n",
        "\n",
        "# -- TRUSTED SETUP PHASE --\n",
        "# Secret parameters for polynomial evaluation and forgery prevention\n",
        "# Everything that's not an elliptic curve point is TOXIC WASTE!\n",
        "# Note: These parameters should be randomly generated in a real-world scenario.\n",
        "tau_secret = GF(1337)  # Secret point for polynomial evaluation\n",
        "alpha_secret = GF(17)\n",
        "beta_secret = GF(32)\n",
        "gamma_secret = GF(99)\n",
        "delta_secret = GF(131)\n",
        "\n",
        "# Generation of Elliptic Curve Points\n",
        "alpha_g1_point = multiply(G1, int(alpha_secret))\n",
        "beta_g1_point = multiply(G1, int(beta_secret))\n",
        "beta_g2_point = multiply(G2, int(beta_secret))\n",
        "gamma_g2_point = multiply(G2, int(gamma_secret))\n",
        "delta_g1_point = multiply(G1, int(delta_secret))\n",
        "delta_g2_point = multiply(G2, int(delta_secret))\n",
        "\n",
        "# Calculation of τ powers for encrypted polynomial evaluation\n",
        "polynomial_degree = Ua.degree\n",
        "tau_powers_g1 = [multiply(G1, int(tau_secret ** i)) for i in range(polynomial_degree + 1)]\n",
        "tau_powers_g2 = [multiply(G2, int(tau_secret ** i)) for i in range(polynomial_degree + 1)]\n",
        "\n",
        "# Precomputation for prover's C calculation\n",
        "# Combines evaluations of polynomials U, V, W at τ with α and β\n",
        "beta_U_tau = [beta_secret * poly(tau_secret) for poly in U]\n",
        "alpha_V_tau = [alpha_secret * poly(tau_secret) for poly in V]\n",
        "tau_W = [poly(tau_secret) for poly in W]\n",
        "combined_C_tau = [w + beta_u + alpha_v for w, beta_u, alpha_v in zip(tau_W, beta_U_tau, alpha_V_tau)]\n",
        "\n",
        "# Number of public inputs\n",
        "num_public_inputs = 2\n",
        "\n",
        "# Splitting powers of τ for C into public and private parts\n",
        "# and convert into elliptic curve points\n",
        "public_tau_powers_C = [multiply(G1, int(c / gamma_secret)) for c in combined_C_tau[:num_public_inputs]]\n",
        "private_tau_powers_C = [multiply(G1, int(c / delta_secret)) for c in combined_C_tau[num_public_inputs:]]\n",
        "\n",
        "# Powers of τ for h(τ)t(τ)\n",
        "# Adjusted by dividing with delta for verification multiplication\n",
        "tau_powers_HT_G1 = [multiply(G1, int(tau_secret ** i * t(tau_secret) / delta_secret)) for i in range(polynomial_degree + 1)]\n",
        "\n",
        "# -- PROVER PHASE --\n",
        "# Prover generates random variables for proof construction\n",
        "# Ua, Va, Wa and h have been previously computed from a satisfied QAP.\n",
        "random_r, random_s = GF(177), GF(139)\n",
        "\n",
        "# Prover computes encrypted polynomial evaluations A1, B1, B2\n",
        "A1 = encrypted_poly_eval(tau_powers_g1, Ua.coefficients()[::-1])\n",
        "B1 = encrypted_poly_eval(tau_powers_g1, Va.coefficients()[::-1])\n",
        "B2 = encrypted_poly_eval(tau_powers_g2, Va.coefficients()[::-1])\n",
        "\n",
        "# Final adjustments with random variables and elliptic curve points\n",
        "A1_final = add(add(A1, alpha_g1_point), multiply(delta_g1_point, int(random_r)))\n",
        "B1_final = add(add(B1, beta_g1_point), multiply(delta_g1_point, int(random_s)))\n",
        "B2_final = add(add(B2, beta_g2_point), multiply(delta_g2_point, int(random_s)))\n",
        "\n",
        "# Prover computes encrypted polynomial evaluation for private inputs\n",
        "HT_G1 = encrypted_poly_eval(tau_powers_HT_G1, h.coefficients()[::-1])\n",
        "private_input_C = encrypted_poly_eval(private_tau_powers_C, w[num_public_inputs:])\n",
        "scaled_A1 = multiply(A1_final, int(random_s))\n",
        "scaled_B1 = multiply(B1_final, int(random_r))\n",
        "product_delta = multiply(delta_g1_point, int(random_r * random_s))\n",
        "C1_final = add(add(add(add(private_input_C, HT_G1), scaled_A1), scaled_B1), neg(product_delta))\n",
        "\n",
        "# -- VERIFIER PHASE --\n",
        "# Verifier computes encrypted polynomial evaluation for public inputs\n",
        "public_input_ec = encrypted_poly_eval(public_tau_powers_C, w[:num_public_inputs])\n",
        "\n",
        "# Verifier checks the pairing equations\n",
        "pairing_term1 = pairing(B2_final, neg(A1_final))\n",
        "pairing_term2 = pairing(beta_g2_point, alpha_g1_point)\n",
        "pairing_term3 = pairing(gamma_g2_point, public_input_ec)\n",
        "pairing_term4 = pairing(delta_g2_point, C1_final)\n",
        "\n",
        "# Final exponentiation to check the proof's validity\n",
        "assert final_exponentiate(pairing_term1 * pairing_term2 * pairing_term3 * pairing_term4) == FQ12.one()"
      ],
      "metadata": {
        "id": "qY_RaLGgaBh6"
      },
      "execution_count": 17,
      "outputs": []
    }
  ],
  "metadata": {
    "colab": {
      "provenance": []
    },
    "kernelspec": {
      "display_name": "Python 3",
      "name": "python3"
    },
    "language_info": {
      "name": "python"
    }
  },
  "nbformat": 4,
  "nbformat_minor": 0
}
